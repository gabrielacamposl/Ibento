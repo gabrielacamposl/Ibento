{
 "cells": [
  {
   "cell_type": "markdown",
   "metadata": {},
   "source": [
    "Tareas:\n",
    "1. Expresión regular para la CIC y idCiudadano\n",
    "2. Dataset INE's"
   ]
  },
  {
   "cell_type": "code",
   "execution_count": 32,
   "metadata": {},
   "outputs": [],
   "source": [
    "from PIL import Image\n",
    "import pytesseract \n",
    "import re\n"
   ]
  },
  {
   "cell_type": "code",
   "execution_count": 33,
   "metadata": {},
   "outputs": [],
   "source": [
    "pytesseract.pytesseract.tesseract_cmd = r'd:\\Tessaract OCR\\Resources\\tesseract.exe'"
   ]
  },
  {
   "cell_type": "code",
   "execution_count": 53,
   "metadata": {},
   "outputs": [
    {
     "name": "stdout",
     "output_type": "stream",
     "text": [
      "INSTITUTO NACIONAL ELECTORAL\n",
      "CREDENCIAL PARA VOTAR\n",
      "\n",
      "—_—_ >\n",
      "\n",
      "FECHA DE NACIMIENTO\n",
      "16/01/2001\n",
      "sexo. H\n",
      "\n",
      "COL BUENAMISTA 350\n",
      "CUAUHTEMOC, CDMX\n",
      "CLAVE DE ELECTOR DvaNtototeomet\n",
      "\n",
      "cure DAAGO101 16HDFVNLAG 7 ppg recistro 2019 00\n",
      "estapo 09 MUNICIPIO SECCION 4638\n",
      "tocaupap 0001 EMIsION 2019 Weencn ) enews 2029 *,\n",
      "\n",
      "MR cease. a i\n",
      "\n"
     ]
    }
   ],
   "source": [
    "# Abre la imagen usando Pillow\n",
    "# image = Image.open('D:\\Python\\Projects\\Python_Lessons\\CNN\\opencv-text-detection-master\\opencv-text-detection-master/ine.jpg')\n",
    "image = Image.open('ine2.jpeg')\n",
    "\n",
    "# Usa pytesseract para extraer el texto\n",
    "extracted_text = pytesseract.image_to_string(image)\n",
    "print(extracted_text)"
   ]
  },
  {
   "cell_type": "code",
   "execution_count": 50,
   "metadata": {},
   "outputs": [
    {
     "name": "stdout",
     "output_type": "stream",
     "text": [
      "IDMEX: None\n",
      "CIC: None\n"
     ]
    }
   ],
   "source": [
    "import re\n",
    "\n",
    "# Función para validar IDMEX\n",
    "def es_id_mex(id_mex):\n",
    "    patron_id_mex = re.compile(r'^IDMEX\\d{10}$')\n",
    "    return bool(patron_id_mex.match(id_mex))\n",
    "\n",
    "# Función para validar CIC\n",
    "def es_cic(id_cic):\n",
    "    patron_cic = re.compile(r'^\\d{13}$')\n",
    "    return bool(patron_cic.match(id_cic))\n",
    "\n",
    "# Variables para almacenar los resultados\n",
    "id_cic = None\n",
    "id_mex = None\n",
    "\n",
    "# Lista de texto extraído\n",
    "lista = extracted_text.split('\\n')\n",
    "\n",
    "# Procesar cada línea del texto\n",
    "for linea in lista:\n",
    "    if linea.strip():  # Verifica que no esté vacía\n",
    "        palabras = linea.split()\n",
    "        for palabra in palabras:\n",
    "            if es_id_mex(palabra):\n",
    "                id_mex_temp = palabra  # Variable intermedia para IDMEX\n",
    "                if es_id_mex(id_mex_temp):\n",
    "                    id_mex = id_mex_temp\n",
    "            elif es_cic(palabra):\n",
    "                id_cic_temp = palabra  # Variable intermedia para CIC\n",
    "                if es_cic(id_cic_temp):\n",
    "                    id_cic = id_cic_temp\n",
    "\n",
    "# Imprimir los resultados\n",
    "print(\"IDMEX:\", id_mex)\n",
    "print(\"CIC:\", id_cic)\n"
   ]
  },
  {
   "cell_type": "code",
   "execution_count": null,
   "metadata": {},
   "outputs": [
    {
     "ename": "TypeError",
     "evalue": "'NoneType' object is not subscriptable",
     "output_type": "error",
     "traceback": [
      "\u001b[1;31m---------------------------------------------------------------------------\u001b[0m",
      "\u001b[1;31mTypeError\u001b[0m                                 Traceback (most recent call last)",
      "Cell \u001b[1;32mIn[36], line 16\u001b[0m\n\u001b[0;32m     13\u001b[0m                 curp \u001b[38;5;241m=\u001b[39m y\n\u001b[0;32m     15\u001b[0m \u001b[38;5;66;03m# Cambiar el ultimo caracter por un 0 si es una O\u001b[39;00m\n\u001b[1;32m---> 16\u001b[0m \u001b[38;5;28;01mif\u001b[39;00m \u001b[43mcurp\u001b[49m\u001b[43m[\u001b[49m\u001b[38;5;241;43m-\u001b[39;49m\u001b[38;5;241;43m1\u001b[39;49m\u001b[43m]\u001b[49m \u001b[38;5;241m==\u001b[39m \u001b[38;5;124m'\u001b[39m\u001b[38;5;124mO\u001b[39m\u001b[38;5;124m'\u001b[39m:\n\u001b[0;32m     17\u001b[0m     curp \u001b[38;5;241m=\u001b[39m curp[:\u001b[38;5;241m-\u001b[39m\u001b[38;5;241m1\u001b[39m] \u001b[38;5;241m+\u001b[39m \u001b[38;5;124m'\u001b[39m\u001b[38;5;124m0\u001b[39m\u001b[38;5;124m'\u001b[39m\n\u001b[0;32m     19\u001b[0m \u001b[38;5;28mprint\u001b[39m(curp)\n",
      "\u001b[1;31mTypeError\u001b[0m: 'NoneType' object is not subscriptable"
     ]
    }
   ],
   "source": [
    "\n",
    "def es_curp_valido(curp):\n",
    "    patron_curp = re.compile(r'^[A-Z]{1}[AEIOU]{1}[A-Z]{2}\\d{2}(0[1-9]|1[0-2])(0[1-9]|[12][0-9]|3[01])[HM]{1}(AS|BC|BS|CC|CL|CM|CS|CH|DF|DG|GT|GR|HG|JC|MC|MN|MS|NT|NL|OC|PL|QT|QR|SP|SL|SR|TC|TS|TL|VZ|YN|ZS|NE)[B-DF-HJ-NP-TV-Z]{3}[A-Z\\d]{1}[A-Z\\d]{1}$')\n",
    "    return bool(patron_curp.match(curp))\n",
    "\n",
    "curp = None\n",
    "\n",
    "lista = extracted_text.split('\\n')\n",
    "for x in lista:\n",
    "    if x != '':\n",
    "        for y in x.split(' '):\n",
    "            if es_curp_valido(y):\n",
    "                print(y)\n",
    "                curp = y\n",
    "\n",
    "# Cambiar el ultimo caracter por un 0 si es una O\n",
    "if curp[-1] == 'O':\n",
    "    curp = curp[:-1] + '0'\n",
    "else:\n",
    "    exit(1)\n",
    "\n",
    "print(curp)\n",
    "\n"
   ]
  },
  {
   "cell_type": "code",
   "execution_count": null,
   "metadata": {},
   "outputs": [
    {
     "name": "stdout",
     "output_type": "stream",
     "text": [
      "{\"id\":\"67232ccef9ac89c629e81b57\",\"createdAt\":\"2024-10-31T07:07:58.491806488Z\",\"finishedAt\":\"2024-10-31T07:08:24.140831322Z\",\"duration\":25649,\"status\":\"SUCCESS\",\"request\":{\"cic\":\"255950188\",\"idCiudadano\":\"127314657\",\"modelo\":\"e\"},\"response\":{\"anioEmisión\":\"2023\",\"anioRegistro\":\"2020\",\"cic\":\"255950188\",\"claveElector\":\"CMLCGB02111415M500\",\"descripcion\":\"Esta vigente como medio de identificación y puedes votar. Tus datos se encuentran en el Padrón Electoral, y también en la Lista Nominal de Electores.\",\"distritoFederal\":\"8\",\"distritoLocal\":\"26\",\"fechaActualizacion\":\"2024-10-30\",\"fechaConsulta\":\"2024-10-31\",\"numEmision\":\"1\",\"ocr\":\"0869127314657\",\"status\":\"VALID\",\"vigencia\":\"2033-12-31\"}}\n"
     ]
    }
   ],
   "source": [
    "import requests\n",
    "\n",
    "# URL de la API sin el testCaseId\n",
    "url = \"https://link.kiban.com/api/v2/ine/validate\"\n",
    "\n",
    "# Encabezados, incluyendo la clave API\n",
    "headers = {\n",
    "    \"accept\": \"application/json\",\n",
    "    \"content-type\": \"application/json\",\n",
    "    \"x-api-key\": \"\"\n",
    "}\n",
    "\n",
    "# Datos de la credencial a validar (ejemplo de modelo C)\n",
    "payload = {\n",
    "    \"modelo\": \"e\",\n",
    "    \"cic\": \"2\",\n",
    "    \"idCiudadano\": \"\"                  \n",
    "}\n",
    "\n",
    "# Realiza la solicitud POST sin el testCaseId\n",
    "response = requests.post(url, json=payload, headers=headers)\n",
    "\n",
    "# Imprime el resultado de la respuesta\n",
    "print(response.text)\n"
   ]
  }
 ],
 "metadata": {
  "kernelspec": {
   "display_name": "Python 3",
   "language": "python",
   "name": "python3"
  },
  "language_info": {
   "codemirror_mode": {
    "name": "ipython",
    "version": 3
   },
   "file_extension": ".py",
   "mimetype": "text/x-python",
   "name": "python",
   "nbconvert_exporter": "python",
   "pygments_lexer": "ipython3",
   "version": "3.11.8"
  }
 },
 "nbformat": 4,
 "nbformat_minor": 2
}
